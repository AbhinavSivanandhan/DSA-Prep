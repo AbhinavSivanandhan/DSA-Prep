{
 "cells": [
  {
   "cell_type": "code",
   "execution_count": 9,
   "id": "e486d843-09c4-4ce9-b209-c70a9d7bcdc0",
   "metadata": {},
   "outputs": [
    {
     "data": {
      "text/plain": [
       "3"
      ]
     },
     "execution_count": 9,
     "metadata": {},
     "output_type": "execute_result"
    }
   ],
   "source": [
    "# Define the TreeNode class and the Solution class as described in the user's code\n",
    "from typing import Optional\n",
    "\n",
    "class TreeNode:\n",
    "    def __init__(self, val=0, left=None, right=None):\n",
    "        self.val = val\n",
    "        self.left = left\n",
    "        self.right = right\n",
    "\n",
    "class Solution:\n",
    "    def kthSmallest(self, root: Optional[TreeNode], k: int) -> int:\n",
    "        store=[]\n",
    "        def bruteforcetraverseandstore(root):\n",
    "            if root:\n",
    "                bruteforcetraverseandstore(root.left)\n",
    "                store.append(root.val)\n",
    "                bruteforcetraverseandstore(root.right)  # Fix: Should be 'right' instead of 'left' here.\n",
    "        bruteforcetraverseandstore(root)\n",
    "        store.sort()\n",
    "        return store[k-1] if store else None\n",
    "\n",
    "\n",
    "# Creating the test case input\n",
    "root = TreeNode(5)\n",
    "root.left = TreeNode(3)\n",
    "root.right = TreeNode(6)\n",
    "root.left.left = TreeNode(2)\n",
    "root.left.right = TreeNode(4)\n",
    "root.left.left.left = TreeNode(1)\n",
    "\n",
    "# Running the test case\n",
    "sol = Solution()\n",
    "result = sol.kthSmallest(root, 3)\n",
    "result\n"
   ]
  },
  {
   "cell_type": "code",
   "execution_count": null,
   "id": "5f728b24-030f-4fc6-9531-4da0dadbbc93",
   "metadata": {},
   "outputs": [],
   "source": []
  }
 ],
 "metadata": {
  "kernelspec": {
   "display_name": "Python 3 (ipykernel)",
   "language": "python",
   "name": "python3"
  },
  "language_info": {
   "codemirror_mode": {
    "name": "ipython",
    "version": 3
   },
   "file_extension": ".py",
   "mimetype": "text/x-python",
   "name": "python",
   "nbconvert_exporter": "python",
   "pygments_lexer": "ipython3",
   "version": "3.12.7"
  }
 },
 "nbformat": 4,
 "nbformat_minor": 5
}
