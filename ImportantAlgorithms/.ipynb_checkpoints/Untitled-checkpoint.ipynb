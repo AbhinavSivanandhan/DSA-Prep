{
 "cells": [
  {
   "cell_type": "code",
   "execution_count": 47,
   "id": "a3a25a4d-87b4-4a2a-b8d4-d649dd7c26a9",
   "metadata": {},
   "outputs": [],
   "source": [
    "import math\n",
    "from typing import List\n",
    "class Solution:\n",
    "    def maxLength(self, nums: List[int]) -> int:\n",
    "        maxlen=0\n",
    "        result=[]\n",
    "        for i in range(0,len(nums)-1):\n",
    "            for j in range(i+1,len(nums)+1):\n",
    "                #print(nums[i:j])\n",
    "                if math.prod(nums[i:j])==math.lcm(*nums[i:j])*math.gcd(*nums[i:j]):\n",
    "                    if j-i+1>maxlen:\n",
    "                        maxlen=j-i+1\n",
    "                        result=nums[i:j]\n",
    "        return result\n"
   ]
  },
  {
   "cell_type": "code",
   "execution_count": 49,
   "id": "89d9ec66-9a5e-48e9-bd98-0f417e6c7eb8",
   "metadata": {},
   "outputs": [
    {
     "data": {
      "text/plain": [
       "[1, 2, 1, 1, 1]"
      ]
     },
     "execution_count": 49,
     "metadata": {},
     "output_type": "execute_result"
    }
   ],
   "source": [
    "ob=Solution()\n",
    "ob.maxLength([1,2,1,2,1,1,1])"
   ]
  },
  {
   "cell_type": "code",
   "execution_count": 19,
   "id": "7493fde3-6aae-4dc7-8e19-f12252fc62fc",
   "metadata": {},
   "outputs": [
    {
     "data": {
      "text/plain": [
       "4"
      ]
     },
     "execution_count": 19,
     "metadata": {},
     "output_type": "execute_result"
    }
   ],
   "source": [
    "math.prod([1,2,1,2,1,1,1])"
   ]
  },
  {
   "cell_type": "code",
   "execution_count": 17,
   "id": "07f20d38-4c97-4e47-af5a-d92bcbba0bc8",
   "metadata": {},
   "outputs": [
    {
     "data": {
      "text/plain": [
       "2"
      ]
     },
     "execution_count": 17,
     "metadata": {},
     "output_type": "execute_result"
    }
   ],
   "source": [
    "math.lcm(*[1,2,1,2,1,1,1])"
   ]
  },
  {
   "cell_type": "code",
   "execution_count": 21,
   "id": "48ec8074-c14e-4fe3-a745-1e7942177ee6",
   "metadata": {},
   "outputs": [
    {
     "data": {
      "text/plain": [
       "1"
      ]
     },
     "execution_count": 21,
     "metadata": {},
     "output_type": "execute_result"
    }
   ],
   "source": [
    "math.gcd(*[1,2,1,2,1,1,1])"
   ]
  },
  {
   "cell_type": "code",
   "execution_count": 51,
   "id": "c9a38891-67bb-44f1-ba09-a6a1c8ad5806",
   "metadata": {},
   "outputs": [],
   "source": [
    "class Solution:\n",
    "    def calculateScore(self, s: str) -> int:\n",
    "        def mirror(c):\n",
    "            if 'A' <= c <= 'Z':  \n",
    "                return chr(155 - ord(c))\n",
    "            elif 'a' <= c <= 'z':  \n",
    "                return chr(219 - ord(c))\n",
    "            else:\n",
    "                return c\n",
    "        total=0\n",
    "        visited=set()\n",
    "        for j in range(0,len(s)):\n",
    "            for i in range(j+1,len(s)):\n",
    "                #j always < i\n",
    "                if s[j]==mirror(s[i]) and j not in visited:\n",
    "                    visited.add(j)#makr visited\n",
    "                    total+=i-j\n",
    "        return total\n"
   ]
  },
  {
   "cell_type": "code",
   "execution_count": 97,
   "id": "6a5265c7-2063-47a6-8424-957ae35adc54",
   "metadata": {},
   "outputs": [],
   "source": [
    "class Solution:\n",
    "    def calculateScore(self, s: str) -> int:\n",
    "        def mirror(c):\n",
    "            if 'A' <= c <= 'Z':  \n",
    "                return chr(155 - ord(c))\n",
    "            elif 'a' <= c <= 'z':  \n",
    "                return chr(219 - ord(c))\n",
    "            else:\n",
    "                return c\n",
    "        total=0\n",
    "        visited=set()\n",
    "        for j in range(0,len(s)):\n",
    "            for i in range(j+1,len(s)):\n",
    "                #j always < i\n",
    "                if s[j]==mirror(s[i]) and i not in visited and j not in visited:\n",
    "                    print(s[j],i-j)\n",
    "                    \n",
    "                    visited.add(j)#makr visited\n",
    "                    visited.add(i)\n",
    "                    total+=i-j\n",
    "        return total\n"
   ]
  },
  {
   "cell_type": "code",
   "execution_count": 99,
   "id": "719342b0-e03a-4753-97be-a1ddc3d83ebe",
   "metadata": {},
   "outputs": [],
   "source": [
    "# ob=Solution()\n",
    "# ob.calculateScore(\"eockppxdqclkhjgvnw\")"
   ]
  },
  {
   "cell_type": "code",
   "execution_count": 101,
   "id": "78fd2c88-eb0b-4539-b130-8e0c20504235",
   "metadata": {},
   "outputs": [
    {
     "name": "stdout",
     "output_type": "stream",
     "text": [
      "a 1\n",
      "w 6\n"
     ]
    },
    {
     "data": {
      "text/plain": [
       "7"
      ]
     },
     "execution_count": 101,
     "metadata": {},
     "output_type": "execute_result"
    }
   ],
   "source": [
    "ob=Solution()\n",
    "ob.calculateScore(\"azapfwonwwcdagew\")"
   ]
  },
  {
   "cell_type": "code",
   "execution_count": null,
   "id": "b56011b6-5656-4024-b37b-a76dc0794808",
   "metadata": {},
   "outputs": [],
   "source": []
  }
 ],
 "metadata": {
  "kernelspec": {
   "display_name": "Python 3 (ipykernel)",
   "language": "python",
   "name": "python3"
  },
  "language_info": {
   "codemirror_mode": {
    "name": "ipython",
    "version": 3
   },
   "file_extension": ".py",
   "mimetype": "text/x-python",
   "name": "python",
   "nbconvert_exporter": "python",
   "pygments_lexer": "ipython3",
   "version": "3.12.7"
  }
 },
 "nbformat": 4,
 "nbformat_minor": 5
}
