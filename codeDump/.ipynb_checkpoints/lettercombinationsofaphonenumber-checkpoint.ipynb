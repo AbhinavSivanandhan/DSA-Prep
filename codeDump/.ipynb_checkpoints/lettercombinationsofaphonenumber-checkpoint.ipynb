{
 "cells": [
  {
   "cell_type": "code",
   "execution_count": 2,
   "id": "52249372-3682-4305-96b8-c891e5dc0d32",
   "metadata": {},
   "outputs": [],
   "source": [
    "from typing import List\n",
    "class Solution:\n",
    "    def letterCombinations(self, digits: str) -> List[str]:\n",
    "        res = []\n",
    "        digitToChar = {\n",
    "            \"2\": \"abc\",\n",
    "            \"3\": \"def\",\n",
    "            \"4\": \"ghi\",\n",
    "            \"5\": \"jkl\",\n",
    "            \"6\": \"mno\",\n",
    "            \"7\": \"qprs\",\n",
    "            \"8\": \"tuv\",\n",
    "            \"9\": \"wxyz\",\n",
    "        }\n",
    "\n",
    "        def backtrack(i, curStr):\n",
    "            if len(curStr) == len(digits):\n",
    "                res.append(curStr)\n",
    "                return\n",
    "            for c in digitToChar[digits[i]]:\n",
    "                backtrack(i + 1, curStr + c)\n",
    "\n",
    "        if digits:\n",
    "            backtrack(0, \"\")\n",
    "\n",
    "        return res"
   ]
  },
  {
   "cell_type": "code",
   "execution_count": 5,
   "id": "e0634c37-2581-4949-94f8-c7960db821db",
   "metadata": {},
   "outputs": [
    {
     "data": {
      "text/plain": [
       "['ad', 'ae', 'af', 'bd', 'be', 'bf', 'cd', 'ce', 'cf']"
      ]
     },
     "execution_count": 5,
     "metadata": {},
     "output_type": "execute_result"
    }
   ],
   "source": [
    "Solution().letterCombinations(\"23\")"
   ]
  },
  {
   "cell_type": "code",
   "execution_count": null,
   "id": "248cb4fa-fca3-4de8-8c1d-d1faa5a8cb81",
   "metadata": {},
   "outputs": [],
   "source": []
  }
 ],
 "metadata": {
  "kernelspec": {
   "display_name": "Python 3 (ipykernel)",
   "language": "python",
   "name": "python3"
  },
  "language_info": {
   "codemirror_mode": {
    "name": "ipython",
    "version": 3
   },
   "file_extension": ".py",
   "mimetype": "text/x-python",
   "name": "python",
   "nbconvert_exporter": "python",
   "pygments_lexer": "ipython3",
   "version": "3.12.7"
  }
 },
 "nbformat": 4,
 "nbformat_minor": 5
}
