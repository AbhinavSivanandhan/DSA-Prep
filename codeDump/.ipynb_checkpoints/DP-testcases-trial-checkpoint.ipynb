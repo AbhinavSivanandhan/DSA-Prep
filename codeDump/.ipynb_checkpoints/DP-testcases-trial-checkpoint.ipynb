{
 "cells": [
  {
   "cell_type": "code",
   "execution_count": 1,
   "id": "2dfa95a1-1535-448e-944b-67cae9ca7c4b",
   "metadata": {},
   "outputs": [],
   "source": [
    "#Idea is to build my own testcases, check and consider all edgecases for neetcode 150 problems from now on. leetcode isn't very edge case oriented so I want to build that skill"
   ]
  },
  {
   "cell_type": "code",
   "execution_count": null,
   "id": "216e271e-5d15-4ff9-8f73-e941c245e1d6",
   "metadata": {},
   "outputs": [],
   "source": [
    "# gpt to generate assert statement for object code tests"
   ]
  },
  {
   "cell_type": "code",
   "execution_count": null,
   "id": "129cf0ca-74f2-4d79-acaf-0811a8b5af99",
   "metadata": {},
   "outputs": [],
   "source": [
    "class Solution:\n",
    "    def minCostClimbingStairs(self, cost: List[int]) -> int:\n",
    "        n = len(cost)\n",
    "        dp = [0] * (n + 1)\n",
    "        \n",
    "        for i in range(2, n + 1):\n",
    "            dp[i] = min(dp[i - 1] + cost[i - 1],\n",
    "                        dp[i - 2] + cost[i - 2])\n",
    "        \n",
    "        return dp[n]"
   ]
  },
  {
   "cell_type": "code",
   "execution_count": null,
   "id": "063b8344-11c5-4e9f-be43-01a894e67349",
   "metadata": {},
   "outputs": [],
   "source": []
  },
  {
   "cell_type": "code",
   "execution_count": null,
   "id": "2d181b1a-3bf4-42e9-b878-27bc520a4bf4",
   "metadata": {},
   "outputs": [],
   "source": [
    "class Solution:\n",
    "    def minCostClimbingStairs(self, cost: List[int]) -> int:\n",
    "        dp = [0 for _ in range(len(cost)+1)]#list of n+1 entries. no cost for 0 steps\n",
    "        dp[1] = cost[0] #step at index 0\n",
    "        dp[2] = min(cost[0],cost[1]) #step at index 1 (or we can pay cost of index 0 and reach here)\n",
    "        for i in range(3, len(dp)):\n",
    "            dp[i]=min(dp[i-2]+cost[i-2],dp[i-1]+cost[i-1]) \n",
    "        return dp[-1]\n"
   ]
  },
  {
   "cell_type": "code",
   "execution_count": null,
   "id": "33cd6c4c-cf00-4481-8618-6605d75e539d",
   "metadata": {},
   "outputs": [],
   "source": []
  },
  {
   "cell_type": "code",
   "execution_count": null,
   "id": "51e76f12-5aa4-4505-b7cc-1bb9764e3606",
   "metadata": {},
   "outputs": [],
   "source": []
  }
 ],
 "metadata": {
  "kernelspec": {
   "display_name": "Python 3 (ipykernel)",
   "language": "python",
   "name": "python3"
  },
  "language_info": {
   "codemirror_mode": {
    "name": "ipython",
    "version": 3
   },
   "file_extension": ".py",
   "mimetype": "text/x-python",
   "name": "python",
   "nbconvert_exporter": "python",
   "pygments_lexer": "ipython3",
   "version": "3.12.7"
  }
 },
 "nbformat": 4,
 "nbformat_minor": 5
}
